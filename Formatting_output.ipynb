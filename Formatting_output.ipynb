{
  "nbformat": 4,
  "nbformat_minor": 0,
  "metadata": {
    "colab": {
      "name": "Formatting output.ipynb",
      "provenance": [],
      "authorship_tag": "ABX9TyNoUQnv4hKVP8PtlY0wBSlW",
      "include_colab_link": true
    },
    "kernelspec": {
      "name": "python3",
      "display_name": "Python 3"
    },
    "language_info": {
      "name": "python"
    }
  },
  "cells": [
    {
      "cell_type": "markdown",
      "metadata": {
        "id": "view-in-github",
        "colab_type": "text"
      },
      "source": [
        "<a href=\"https://colab.research.google.com/github/priyaharihp17/priyaharihp17/blob/main/Formatting_output.ipynb\" target=\"_parent\"><img src=\"https://colab.research.google.com/assets/colab-badge.svg\" alt=\"Open In Colab\"/></a>"
      ]
    },
    {
      "cell_type": "code",
      "metadata": {
        "colab": {
          "base_uri": "https://localhost:8080/"
        },
        "id": "eTPzT01i-p4y",
        "outputId": "52d50c01-a00b-4938-be15-d2ccee4568d1"
      },
      "source": [
        "name=\"Harry\"\n",
        "age=25\n",
        "sal=25000.25\n",
        "\n",
        "#approach 1\n",
        "print(name,age,sal)\n",
        "\n",
        "#approach 2\n",
        "print(\"Name is:\",name)\n",
        "print(\"Age is:\",age)\n",
        "print(\"Salary is:\",sal)\n",
        "\n",
        "#approach 3 using % operator here type is imp\n",
        "print(\"Name is %s, Age is %d, Salary is %g\" %(name,age,sal))\n",
        "\n",
        "#approach 4 using {} here value is imp \n",
        "print(\"Name {}, Age {}, Salary {}\".format(name,age,sal))\n",
        "\n",
        "#approach 5 using {} here index and value is imp\n",
        "print(\"Name:{0}, Age:{1}, Salary:{2}\".format(name,age,sal)) \n"
      ],
      "execution_count": 8,
      "outputs": [
        {
          "output_type": "stream",
          "name": "stdout",
          "text": [
            "Name:Harry, Age:25, Salary:25000.25\n"
          ]
        }
      ]
    }
  ]
}