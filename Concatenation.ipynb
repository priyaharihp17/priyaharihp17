{
  "nbformat": 4,
  "nbformat_minor": 0,
  "metadata": {
    "colab": {
      "name": "Concatenation.ipynb",
      "provenance": [],
      "authorship_tag": "ABX9TyNaOSojHsAbYBppG+uEA9iO",
      "include_colab_link": true
    },
    "kernelspec": {
      "name": "python3",
      "display_name": "Python 3"
    },
    "language_info": {
      "name": "python"
    }
  },
  "cells": [
    {
      "cell_type": "markdown",
      "metadata": {
        "id": "view-in-github",
        "colab_type": "text"
      },
      "source": [
        "<a href=\"https://colab.research.google.com/github/priyaharihp17/priyaharihp17/blob/main/Concatenation.ipynb\" target=\"_parent\"><img src=\"https://colab.research.google.com/assets/colab-badge.svg\" alt=\"Open In Colab\"/></a>"
      ]
    },
    {
      "cell_type": "code",
      "metadata": {
        "colab": {
          "base_uri": "https://localhost:8080/",
          "height": 363
        },
        "id": "aZS6rKW0Gk02",
        "outputId": "a263e52c-8a6c-4f9b-d0e9-353905b465e2"
      },
      "source": [
        "#we can concatenate 2 same type but not 2 different datatypes\n",
        "\n",
        "print(10+10) #valid\n",
        "print(10.5+10.5) #valid\n",
        "print(\"Welcome\"+\" Python\") #valid\n",
        "\n",
        "print(10+10.5) #valid\n",
        "print(True+5) #valid #True is a boolean & is considered as 1 \n",
        "print(False+6) #valid #False is a boolean & is considered as 0\n",
        "print(True+True) #valid\n",
        "\n",
        "\n",
        "print(10+\"Welcome\") #Invalid #TypeError: unsupported operand type(s) \n",
        "print(10.5+\"Welcome\") #Invalid #TypeError: unsupported operand type(s) \n",
        "print(True+\"Welcome\") #Invalid #TypeError: unsupported operand type(s) \n",
        "\n",
        "\n"
      ],
      "execution_count": null,
      "outputs": [
        {
          "output_type": "stream",
          "name": "stdout",
          "text": [
            "20\n",
            "21.0\n",
            "Welcome Python\n",
            "20.5\n",
            "6\n",
            "6\n",
            "2\n"
          ]
        },
        {
          "output_type": "error",
          "ename": "TypeError",
          "evalue": "ignored",
          "traceback": [
            "\u001b[0;31m---------------------------------------------------------------------------\u001b[0m",
            "\u001b[0;31mTypeError\u001b[0m                                 Traceback (most recent call last)",
            "\u001b[0;32m<ipython-input-11-d5d08124a3c0>\u001b[0m in \u001b[0;36m<module>\u001b[0;34m()\u001b[0m\n\u001b[1;32m      8\u001b[0m \u001b[0mprint\u001b[0m\u001b[0;34m(\u001b[0m\u001b[0;32mTrue\u001b[0m\u001b[0;34m+\u001b[0m\u001b[0;32mTrue\u001b[0m\u001b[0;34m)\u001b[0m \u001b[0;31m#valid\u001b[0m\u001b[0;34m\u001b[0m\u001b[0;34m\u001b[0m\u001b[0m\n\u001b[1;32m      9\u001b[0m \u001b[0;34m\u001b[0m\u001b[0m\n\u001b[0;32m---> 10\u001b[0;31m \u001b[0mprint\u001b[0m\u001b[0;34m(\u001b[0m\u001b[0;36m10\u001b[0m\u001b[0;34m+\u001b[0m\u001b[0;34m\"Welcome\"\u001b[0m\u001b[0;34m)\u001b[0m \u001b[0;31m#TypeError: unsupported operand type(s) for +: 'int' and 'str'\u001b[0m\u001b[0;34m\u001b[0m\u001b[0;34m\u001b[0m\u001b[0m\n\u001b[0m\u001b[1;32m     11\u001b[0m \u001b[0mprint\u001b[0m\u001b[0;34m(\u001b[0m\u001b[0;36m10.5\u001b[0m\u001b[0;34m+\u001b[0m\u001b[0;34m\"Welcome\"\u001b[0m\u001b[0;34m)\u001b[0m \u001b[0;31m#TypeError: unsupported operand type(s) for +: 'int' and 'str'\u001b[0m\u001b[0;34m\u001b[0m\u001b[0;34m\u001b[0m\u001b[0m\n\u001b[1;32m     12\u001b[0m \u001b[0mprint\u001b[0m\u001b[0;34m(\u001b[0m\u001b[0;32mTrue\u001b[0m\u001b[0;34m+\u001b[0m\u001b[0;34m\"Welcome\"\u001b[0m\u001b[0;34m)\u001b[0m\u001b[0;34m\u001b[0m\u001b[0;34m\u001b[0m\u001b[0m\n",
            "\u001b[0;31mTypeError\u001b[0m: unsupported operand type(s) for +: 'int' and 'str'"
          ]
        }
      ]
    },
    {
      "cell_type": "code",
      "metadata": {
        "id": "dSmdFi3SKN_d"
      },
      "source": [
        ""
      ],
      "execution_count": null,
      "outputs": []
    }
  ]
}