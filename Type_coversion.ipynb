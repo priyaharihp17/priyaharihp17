{
  "nbformat": 4,
  "nbformat_minor": 0,
  "metadata": {
    "colab": {
      "name": "Type coversion.ipynb",
      "provenance": [],
      "authorship_tag": "ABX9TyPWsYbIq2LE0aaql0p5lC9g",
      "include_colab_link": true
    },
    "kernelspec": {
      "name": "python3",
      "display_name": "Python 3"
    },
    "language_info": {
      "name": "python"
    }
  },
  "cells": [
    {
      "cell_type": "markdown",
      "metadata": {
        "id": "view-in-github",
        "colab_type": "text"
      },
      "source": [
        "<a href=\"https://colab.research.google.com/github/priyaharihp17/priyaharihp17/blob/main/Type_coversion.ipynb\" target=\"_parent\"><img src=\"https://colab.research.google.com/assets/colab-badge.svg\" alt=\"Open In Colab\"/></a>"
      ]
    },
    {
      "cell_type": "code",
      "metadata": {
        "id": "yTM8VVx-mTK-",
        "colab": {
          "base_uri": "https://localhost:8080/"
        },
        "outputId": "794dae83-31b0-411b-902b-bdd42ea349b9"
      },
      "source": [
        "#Type conversion\n",
        "\n",
        "num1=input(\"enter first number:\")   #10 #here number is considered as string\n",
        "num2=input(\"enter second number:\")  #20 #here number is considered as string\n",
        "print (num1+num2)  #output is printed as 1020'''\n",
        "\n",
        "#Type casting method 1\n",
        "a1=int(input(\"enter first number:\"))\n",
        "a2=int(input(\"enter second number:\"))\n",
        "print(a1+a2)\n",
        "\n",
        "#Typecasting method 2\n",
        "b1=input(\"enter first number:\")\n",
        "b2=input(\"enter second number:\")\n",
        "print(int(b1)+int(b2))\n",
        "\n",
        "#Typecasting method 3\n",
        "c1=input(\"enter first decimal number:\")\n",
        "c2=input(\"enter second decimal number:\")\n",
        "print(float(c1)+float(c2))\n",
        "\n",
        "#typecast 4\n",
        "num1=input(\"enter first decimal number:\") #integer cannot hold float value\n",
        "num2=input(\"enter second integer number:\")\n",
        "print(int(num1)+int(num2)) #ValueError: invalid literal for int()\n",
        "\n",
        "#typecast 5\n",
        "num1=input(\"enter first decimal number:\")  #10.5\n",
        "num2=input(\"enter second integer number:\") #10 #float can hold integer value\n",
        "print(float(num1)+float(num2)) #20.5\n",
        "\n",
        "\n"
      ],
      "execution_count": 8,
      "outputs": [
        {
          "output_type": "stream",
          "name": "stdout",
          "text": [
            "enter first decimal number:10.5\n",
            "enter second integer number:10\n",
            "20.5\n"
          ]
        }
      ]
    }
  ]
}