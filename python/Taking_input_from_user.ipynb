{
  "nbformat": 4,
  "nbformat_minor": 0,
  "metadata": {
    "colab": {
      "name": "Taking input from user.ipynb",
      "provenance": [],
      "authorship_tag": "ABX9TyNsJ22Hn+zLsxnGLkOcc/GJ",
      "include_colab_link": true
    },
    "kernelspec": {
      "name": "python3",
      "display_name": "Python 3"
    },
    "language_info": {
      "name": "python"
    }
  },
  "cells": [
    {
      "cell_type": "markdown",
      "metadata": {
        "id": "view-in-github",
        "colab_type": "text"
      },
      "source": [
        "<a href=\"https://colab.research.google.com/github/priyaharihp17/priyaharihp17/blob/main/Taking_input_from_user.ipynb\" target=\"_parent\"><img src=\"https://colab.research.google.com/assets/colab-badge.svg\" alt=\"Open In Colab\"/></a>"
      ]
    },
    {
      "cell_type": "code",
      "metadata": {
        "id": "uM7LXZQmOeHx",
        "colab": {
          "base_uri": "https://localhost:8080/"
        },
        "outputId": "12156fa2-4beb-4daa-d6be-c0f955bcb9ea"
      },
      "source": [
        "#Taking input from user\n",
        "num1=input(\"Enter first number:\") #by default treated as string format\n",
        "num2=input(\"Enter second number:\")\n",
        "print(num1+ num2) #prints as 1020 if num1=10 num2=20\n",
        "\n",
        "#Typecasting method 1\n",
        "a1=int(input(\"Enter first number:\"))\n",
        "a2=int(input(\"Enter first number:\"))\n",
        "print(a1+a2) #prints the sum of the given numbers\n",
        "\n",
        "#Typecasting method 2\n",
        "a1=input(\"Enter first number:\")\n",
        "a2=input(\"Enter second number:\")\n",
        "print(int(a1)+int(a2))\n",
        "\n",
        "#typecast with float\n",
        "b1=input(\"Enter first decimal number:\")\n",
        "b2=input(\"Enter second decimal number:\")\n",
        "print(float(b1)+float(b2))"
      ],
      "execution_count": null,
      "outputs": [
        {
          "output_type": "stream",
          "name": "stdout",
          "text": [
            "Enter first number:10\n",
            "Enter first number:20\n",
            "30\n",
            "Enter first number:10\n",
            "Enter second number:20\n",
            "30\n",
            "Enter first decimal number:10.5\n",
            "Enter second decimal number:10.5\n",
            "21.0\n"
          ]
        }
      ]
    }
  ]
}
