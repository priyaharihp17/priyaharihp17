{
  "nbformat": 4,
  "nbformat_minor": 0,
  "metadata": {
    "colab": {
      "name": "Swapping.ipynb",
      "provenance": [],
      "authorship_tag": "ABX9TyN2IXipLeOFk2y0J/xhJRrw",
      "include_colab_link": true
    },
    "kernelspec": {
      "name": "python3",
      "display_name": "Python 3"
    },
    "language_info": {
      "name": "python"
    }
  },
  "cells": [
    {
      "cell_type": "markdown",
      "metadata": {
        "id": "view-in-github",
        "colab_type": "text"
      },
      "source": [
        "<a href=\"https://colab.research.google.com/github/priyaharihp17/priyaharihp17/blob/main/Swapping.ipynb\" target=\"_parent\"><img src=\"https://colab.research.google.com/assets/colab-badge.svg\" alt=\"Open In Colab\"/></a>"
      ]
    },
    {
      "cell_type": "code",
      "metadata": {
        "colab": {
          "base_uri": "https://localhost:8080/"
        },
        "id": "Zr22ashdKSpg",
        "outputId": "a80994bb-b5d6-4d1a-a33b-0005ff99a280"
      },
      "source": [
        "#swapping\n",
        "\n",
        "x=5\n",
        "y=10\n",
        "x,y=y,x\n",
        "print(\"After swapping values are:\",x,y)"
      ],
      "execution_count": null,
      "outputs": [
        {
          "output_type": "stream",
          "name": "stdout",
          "text": [
            "After swapping values are: 10 5\n"
          ]
        }
      ]
    }
  ]
}
