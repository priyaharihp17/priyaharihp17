{
  "nbformat": 4,
  "nbformat_minor": 0,
  "metadata": {
    "colab": {
      "name": "ReDeclaration.ipynb",
      "provenance": [],
      "authorship_tag": "ABX9TyOL40dj0FhECN6Maw0SpcGx",
      "include_colab_link": true
    },
    "kernelspec": {
      "name": "python3",
      "display_name": "Python 3"
    },
    "language_info": {
      "name": "python"
    }
  },
  "cells": [
    {
      "cell_type": "markdown",
      "metadata": {
        "id": "view-in-github",
        "colab_type": "text"
      },
      "source": [
        "<a href=\"https://colab.research.google.com/github/priyaharihp17/priyaharihp17/blob/main/ReDeclaration.ipynb\" target=\"_parent\"><img src=\"https://colab.research.google.com/assets/colab-badge.svg\" alt=\"Open In Colab\"/></a>"
      ]
    },
    {
      "cell_type": "code",
      "metadata": {
        "colab": {
          "base_uri": "https://localhost:8080/"
        },
        "id": "0muwOImlMVyA",
        "outputId": "066f6c7d-0e7b-4de5-ec48-6a1427d29c3d"
      },
      "source": [
        "#redeclaration of variable\n",
        "\n",
        "a=10\n",
        "print(a)\n",
        "\n",
        "a=100\n",
        "print(a)\n"
      ],
      "execution_count": null,
      "outputs": [
        {
          "output_type": "stream",
          "name": "stdout",
          "text": [
            "10\n",
            "100\n"
          ]
        }
      ]
    }
  ]
}
