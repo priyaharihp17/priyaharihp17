{
  "nbformat": 4,
  "nbformat_minor": 0,
  "metadata": {
    "colab": {
      "name": "Conditional statements.ipynb",
      "provenance": [],
      "authorship_tag": "ABX9TyNQLuqp/kFGqcrXnfr5RcQ1",
      "include_colab_link": true
    },
    "kernelspec": {
      "name": "python3",
      "display_name": "Python 3"
    },
    "language_info": {
      "name": "python"
    }
  },
  "cells": [
    {
      "cell_type": "markdown",
      "metadata": {
        "id": "view-in-github",
        "colab_type": "text"
      },
      "source": [
        "<a href=\"https://colab.research.google.com/github/priyaharihp17/priyaharihp17/blob/main/Conditional_statements.ipynb\" target=\"_parent\"><img src=\"https://colab.research.google.com/assets/colab-badge.svg\" alt=\"Open In Colab\"/></a>"
      ]
    },
    {
      "cell_type": "code",
      "metadata": {
        "colab": {
          "base_uri": "https://localhost:8080/"
        },
        "id": "Y-VdQcxJC3p4",
        "outputId": "9ce6879c-ccf5-4ef2-8eee-391a0cdf96fb"
      },
      "source": [
        "#example 1\n",
        "a=30\n",
        "if(a>10):\n",
        "  print(\"True condition\")\n",
        "else:\n",
        "  print(\"False condition\")\n",
        "\n",
        "#example 2\n",
        "if False: #instead of False and True, 0 & 1 can be also be given\n",
        "    print(\"True condition\")\n",
        "else:\n",
        "    print(\"False condition\")\n",
        "\n",
        "#example 3 even or odd\n",
        "a=25\n",
        "if a%2==0:\n",
        "  print(\"Even\")\n",
        "else:\n",
        "  print(\"Odd\")\n",
        "\n",
        "#multiple statements under if else block\n",
        "if 0:\n",
        "  print(\"Statement 1\")\n",
        "  print(\"Statement 2\")\n",
        "  print(\"Statement 3\")\n",
        "else:\n",
        "  print(\"Statement 4\")\n",
        "  print(\"Statement 5\")\n",
        "print(\"This is not a part of if-else block\")\n",
        "\n",
        "#single statements in single line\n",
        "print(\"Welcome\") if True else print(\"Python\") \n",
        "print(\"welcome\") if 10>20 else print(\"python\")\n",
        "\n",
        "#multiple statements in single line\n",
        "{print(\"Welcome1\"),print(\"Python1\")} if False else {print(\"Welcome2\"),print(\"Python2\")}"
      ],
      "execution_count": null,
      "outputs": [
        {
          "output_type": "stream",
          "name": "stdout",
          "text": [
            "Welcome\n",
            "python\n",
            "Welcome2\n",
            "Python2\n"
          ]
        },
        {
          "output_type": "execute_result",
          "data": {
            "text/plain": [
              "{None}"
            ]
          },
          "metadata": {},
          "execution_count": 24
        }
      ]
    },
    {
      "cell_type": "code",
      "metadata": {
        "id": "_xBlEecSIqYi"
      },
      "source": [
        ""
      ],
      "execution_count": null,
      "outputs": []
    }
  ]
}
