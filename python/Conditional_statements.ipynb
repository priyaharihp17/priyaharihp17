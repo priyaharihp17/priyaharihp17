{
  "nbformat": 4,
  "nbformat_minor": 0,
  "metadata": {
    "colab": {
      "name": "Conditional statements.ipynb",
      "provenance": [],
      "authorship_tag": "ABX9TyM/BgrHR6T+AD0KCrcV3e10",
      "include_colab_link": true
    },
    "kernelspec": {
      "name": "python3",
      "display_name": "Python 3"
    },
    "language_info": {
      "name": "python"
    }
  },
  "cells": [
    {
      "cell_type": "markdown",
      "metadata": {
        "id": "view-in-github",
        "colab_type": "text"
      },
      "source": [
        "<a href=\"https://colab.research.google.com/github/priyaharihp17/priyaharihp17/blob/main/Conditional_statements.ipynb\" target=\"_parent\"><img src=\"https://colab.research.google.com/assets/colab-badge.svg\" alt=\"Open In Colab\"/></a>"
      ]
    },
    {
      "cell_type": "code",
      "metadata": {
        "colab": {
          "base_uri": "https://localhost:8080/"
        },
        "id": "Y-VdQcxJC3p4",
        "outputId": "a9b7ded1-15e2-4920-b22c-fc7d71b4bf4b"
      },
      "source": [
        "#example 1\n",
        "a=30\n",
        "if(a>10):\n",
        "  print(\"True condition\")\n",
        "else:\n",
        "  print(\"False condition\")\n",
        "\n",
        "#example 2\n",
        "if False: #instead of False and True, 0 & 1 can be also be given\n",
        "    print(\"True condition\")\n",
        "else:\n",
        "    print(\"False condition\")\n",
        "\n",
        "#example 3 even or odd\n",
        "a=25\n",
        "if a%2==0:\n",
        "  print(\"Even\")\n",
        "else:\n",
        "  print(\"Odd\")\n",
        "\n",
        "\n"
      ],
      "execution_count": 7,
      "outputs": [
        {
          "output_type": "stream",
          "name": "stdout",
          "text": [
            "True condition\n",
            "False condition\n",
            "Even\n"
          ]
        }
      ]
    }
  ]
}
