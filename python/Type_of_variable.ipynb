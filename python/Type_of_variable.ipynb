{
  "nbformat": 4,
  "nbformat_minor": 0,
  "metadata": {
    "colab": {
      "name": "Type of variable.ipynb",
      "provenance": [],
      "authorship_tag": "ABX9TyOi6ehcw1uJzs+z3VkoGHPR",
      "include_colab_link": true
    },
    "kernelspec": {
      "name": "python3",
      "display_name": "Python 3"
    },
    "language_info": {
      "name": "python"
    }
  },
  "cells": [
    {
      "cell_type": "markdown",
      "metadata": {
        "id": "view-in-github",
        "colab_type": "text"
      },
      "source": [
        "<a href=\"https://colab.research.google.com/github/priyaharihp17/priyaharihp17/blob/main/Type_of_variable.ipynb\" target=\"_parent\"><img src=\"https://colab.research.google.com/assets/colab-badge.svg\" alt=\"Open In Colab\"/></a>"
      ]
    },
    {
      "cell_type": "code",
      "metadata": {
        "colab": {
          "base_uri": "https://localhost:8080/"
        },
        "id": "GHh55DGkFZUU",
        "outputId": "346e9d29-7f00-403e-e410-be5fbf144e90"
      },
      "source": [
        "x=10\n",
        "y=10.5\n",
        "s='welcome' #or \"welcome\"\n",
        "b=True\n",
        "\n",
        "#to know the type of variable\n",
        "print(type(x))\n",
        "print(type(y))\n",
        "print(type(s))\n",
        "print(type(b))"
      ],
      "execution_count": null,
      "outputs": [
        {
          "output_type": "stream",
          "name": "stdout",
          "text": [
            "<class 'int'>\n",
            "<class 'float'>\n",
            "<class 'str'>\n",
            "<class 'bool'>\n"
          ]
        }
      ]
    }
  ]
}
